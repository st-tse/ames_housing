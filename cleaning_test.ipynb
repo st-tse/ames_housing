{
 "cells": [
  {
   "cell_type": "code",
   "execution_count": 1,
   "metadata": {},
   "outputs": [],
   "source": [
    "import numpy as np\n",
    "import pandas as pd\n",
    "import matplotlib.pyplot as plt\n",
    "import seaborn as sns\n",
    "from sklearn.linear_model import LinearRegression\n",
    "import sklearn.metrics as metrics\n",
    "from sklearn.model_selection import train_test_split, cross_val_score\n",
    "from sklearn.preprocessing import StandardScaler, PolynomialFeatures"
   ]
  },
  {
   "cell_type": "code",
   "execution_count": 2,
   "metadata": {},
   "outputs": [],
   "source": [
    "test = pd.read_csv('./datasets/test.csv')"
   ]
  },
  {
   "cell_type": "markdown",
   "metadata": {},
   "source": [
    "See which columns have missing data and how much is missing"
   ]
  },
  {
   "cell_type": "code",
   "execution_count": 3,
   "metadata": {
    "scrolled": false
   },
   "outputs": [
    {
     "data": {
      "text/plain": [
       "{'Lot Frontage': 160,\n",
       " 'Alley': 821,\n",
       " 'Mas Vnr Type': 1,\n",
       " 'Mas Vnr Area': 1,\n",
       " 'Bsmt Qual': 25,\n",
       " 'Bsmt Cond': 25,\n",
       " 'Bsmt Exposure': 25,\n",
       " 'BsmtFin Type 1': 25,\n",
       " 'BsmtFin Type 2': 25,\n",
       " 'Electrical': 1,\n",
       " 'Fireplace Qu': 422,\n",
       " 'Garage Type': 44,\n",
       " 'Garage Yr Blt': 45,\n",
       " 'Garage Finish': 45,\n",
       " 'Garage Qual': 45,\n",
       " 'Garage Cond': 45,\n",
       " 'Pool QC': 875,\n",
       " 'Fence': 707,\n",
       " 'Misc Feature': 838}"
      ]
     },
     "execution_count": 3,
     "metadata": {},
     "output_type": "execute_result"
    }
   ],
   "source": [
    "missing = {}\n",
    "for col in test.columns:\n",
    "    n = test[col].isnull().sum()\n",
    "    if n > 0:\n",
    "        missing[col] = n\n",
    "missing"
   ]
  },
  {
   "cell_type": "code",
   "execution_count": 4,
   "metadata": {},
   "outputs": [],
   "source": [
    "#Filling in certain values based on what ismost common using group by\n",
    "test.loc[(test['Garage Qual'].isnull()==True) & (test['Garage Type']=='Detchd'), 'Garage Qual'] = 'TA'\n",
    "test.loc[(test['Garage Cond'].isnull()==True) & (test['Garage Type']=='Detchd'), 'Garage Cond'] = 'TA'\n",
    "test.loc[(test['Garage Finish'].isnull()==True) & (test['Garage Type']=='Detchd'), 'Garage Finish'] = 'Unf'\n",
    "test.loc[(test['Garage Yr Blt'].isnull()==True) & (test['Garage Type']=='Detchd'), 'Garage Yr Blt'] = 1910\n",
    "\n",
    "#replacing values where NA has meaning\n",
    "test['Alley'].replace(np.nan,value='No Alley Access',inplace=True)\n",
    "test['Bsmt Qual'].replace(np.nan,value='None',inplace=True)\n",
    "test['Bsmt Cond'].replace(np.nan,value='No Basement',inplace=True)\n",
    "test['Bsmt Exposure'].replace(np.nan,value='None',inplace=True)\n",
    "test['BsmtFin Type 1'].replace(np.nan,value='No Basement',inplace=True)\n",
    "test['BsmtFin Type 2'].replace(np.nan,value='No Basement',inplace=True)\n",
    "test['Mas Vnr Type'].replace(np.nan,value='None',inplace=True)\n",
    "test['Mas Vnr Area'].replace(np.nan,value=0,inplace=True)\n",
    "test['Fireplace Qu'].replace(np.nan,value='None',inplace=True)\n",
    "test['Fence'].replace(np.nan,value='No Fence',inplace=True)\n",
    "test['Misc Feature'].replace(np.nan,value='None',inplace=True)\n",
    "test['Pool QC'].replace(np.nan,value='No Pool',inplace=True)\n",
    "test['Garage Type'].replace(np.nan,value='No Garage',inplace=True)\n",
    "test['Garage Yr Blt'].replace(np.nan,value='No Garage',inplace=True)\n",
    "test['Garage Finish'].replace(np.nan,value='No Garage',inplace=True)\n",
    "test['Garage Qual'].replace(np.nan,value='No Garage',inplace=True)\n",
    "test['Garage Cond'].replace(np.nan,value='No Garage',inplace=True)\n",
    "test['Electrical'].replace(np.nan,value='SBrkr',inplace=True)"
   ]
  },
  {
   "cell_type": "markdown",
   "metadata": {},
   "source": [
    "Using views to determine what values are actaully missing and which ones are just place holders for information  \n",
    "Outputs supressed for readibility"
   ]
  },
  {
   "cell_type": "code",
   "execution_count": 5,
   "metadata": {},
   "outputs": [],
   "source": [
    "test['Garage Type'].replace(np.nan,value='No Garage',inplace=True)"
   ]
  },
  {
   "cell_type": "code",
   "execution_count": 6,
   "metadata": {
    "scrolled": true
   },
   "outputs": [],
   "source": [
    "view = test[test['Garage Yr Blt'].isnull()==True]\n",
    "view[['Year Built','Garage Type', 'Garage Yr Blt', 'Garage Finish', 'Garage Qual', 'Garage Cond']];"
   ]
  },
  {
   "cell_type": "code",
   "execution_count": 7,
   "metadata": {
    "scrolled": true
   },
   "outputs": [],
   "source": [
    "test.groupby('Garage Type')['Garage Finish'].value_counts();"
   ]
  },
  {
   "cell_type": "code",
   "execution_count": 8,
   "metadata": {},
   "outputs": [],
   "source": [
    "test.groupby('Garage Type')['Garage Finish'].value_counts();"
   ]
  },
  {
   "cell_type": "code",
   "execution_count": 9,
   "metadata": {
    "scrolled": true
   },
   "outputs": [],
   "source": [
    "test.groupby('Garage Type')['Garage Qual'].value_counts();"
   ]
  },
  {
   "cell_type": "code",
   "execution_count": 10,
   "metadata": {},
   "outputs": [],
   "source": [
    "test.groupby('Garage Type')['Garage Cond'].value_counts();"
   ]
  },
  {
   "cell_type": "code",
   "execution_count": 11,
   "metadata": {},
   "outputs": [],
   "source": [
    "view2 = test[test['Electrical'].isnull()==True]\n",
    "view2[['Year Built']];"
   ]
  },
  {
   "cell_type": "code",
   "execution_count": 12,
   "metadata": {},
   "outputs": [],
   "source": [
    "test.groupby('Year Built')['Electrical'].value_counts();"
   ]
  },
  {
   "cell_type": "code",
   "execution_count": 13,
   "metadata": {},
   "outputs": [],
   "source": [
    "#getting same regression model\n",
    "ames = pd.read_csv('./datasets/train.csv')\n",
    "ames['logfoot'] = np.log(ames['Lot Frontage'])\n",
    "ames['logarea'] = np.log(ames['Lot Area'])\n",
    "lot_train = ames[ames['Lot Frontage'].isnull() == False]\n",
    "lr = LinearRegression()\n",
    "X = lot_train[['logarea']]\n",
    "y = lot_train['logfoot']\n",
    "lr.fit(X,y);"
   ]
  },
  {
   "cell_type": "code",
   "execution_count": 14,
   "metadata": {},
   "outputs": [],
   "source": [
    "test['logfoot'] = np.log(test['Lot Frontage'])\n",
    "test['logarea'] = np.log(test['Lot Area'])\n",
    "test_train = test[test['Lot Frontage'].isnull() == False]\n",
    "test_null = test[test['Lot Frontage'].isnull() == True]"
   ]
  },
  {
   "cell_type": "code",
   "execution_count": 15,
   "metadata": {},
   "outputs": [
    {
     "name": "stderr",
     "output_type": "stream",
     "text": [
      "C:\\Users\\steph\\Anaconda3\\lib\\site-packages\\ipykernel_launcher.py:1: SettingWithCopyWarning: \n",
      "A value is trying to be set on a copy of a slice from a DataFrame.\n",
      "Try using .loc[row_indexer,col_indexer] = value instead\n",
      "\n",
      "See the caveats in the documentation: http://pandas.pydata.org/pandas-docs/stable/indexing.html#indexing-view-versus-copy\n",
      "  \"\"\"Entry point for launching an IPython kernel.\n"
     ]
    }
   ],
   "source": [
    "test_null['logfoot'] = lr.predict(test_null[['logarea']])"
   ]
  },
  {
   "cell_type": "code",
   "execution_count": 16,
   "metadata": {},
   "outputs": [],
   "source": [
    "test = pd.concat([test_train,test_null])"
   ]
  },
  {
   "cell_type": "code",
   "execution_count": 17,
   "metadata": {},
   "outputs": [],
   "source": [
    "test['Lot Frontage'] = np.exp(test['logfoot'])"
   ]
  },
  {
   "cell_type": "code",
   "execution_count": 18,
   "metadata": {},
   "outputs": [
    {
     "data": {
      "text/plain": [
       "0"
      ]
     },
     "execution_count": 18,
     "metadata": {},
     "output_type": "execute_result"
    }
   ],
   "source": [
    "test['Lot Frontage'].isnull().sum()"
   ]
  },
  {
   "cell_type": "code",
   "execution_count": 19,
   "metadata": {},
   "outputs": [],
   "source": [
    "test.drop(columns=['logfoot','logarea'], inplace=True)"
   ]
  },
  {
   "cell_type": "code",
   "execution_count": 20,
   "metadata": {},
   "outputs": [],
   "source": [
    "test.to_csv('cleaned_test.csv')"
   ]
  }
 ],
 "metadata": {
  "kernelspec": {
   "display_name": "Python 3",
   "language": "python",
   "name": "python3"
  },
  "language_info": {
   "codemirror_mode": {
    "name": "ipython",
    "version": 3
   },
   "file_extension": ".py",
   "mimetype": "text/x-python",
   "name": "python",
   "nbconvert_exporter": "python",
   "pygments_lexer": "ipython3",
   "version": "3.6.8"
  }
 },
 "nbformat": 4,
 "nbformat_minor": 2
}
